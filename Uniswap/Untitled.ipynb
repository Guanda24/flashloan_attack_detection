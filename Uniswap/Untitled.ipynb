{
 "cells": [
  {
   "cell_type": "code",
   "execution_count": 1,
   "id": "84d5f53f-40d0-4480-ae47-0c3d3471df02",
   "metadata": {},
   "outputs": [
    {
     "name": "stderr",
     "output_type": "stream",
     "text": [
      "/home/user/gzhao/.local/lib/python3.9/site-packages/matplotlib/projections/__init__.py:63: UserWarning: Unable to import Axes3D. This may be due to multiple versions of Matplotlib being installed (e.g. as a system package and as a pip package). As a result, the 3D projection is not available.\n",
      "  warnings.warn(\"Unable to import Axes3D. This may be due to multiple versions of \"\n"
     ]
    }
   ],
   "source": [
    "import pandas as pd\n",
    "import matplotlib.pyplot as plt\n",
    "import seaborn as sns\n",
    "from sklearn.cluster import KMeans\n",
    "from sklearn.impute import SimpleImputer\n",
    "from sklearn.preprocessing import StandardScaler"
   ]
  },
  {
   "cell_type": "code",
   "execution_count": 2,
   "id": "5a7507c1",
   "metadata": {},
   "outputs": [],
   "source": [
    "df = pd.read_csv('/local/scratch/exported/MP_Defi_txs_TY_23/guanda/Uniswap_v2_ABC.csv')"
   ]
  },
  {
   "cell_type": "code",
   "execution_count": 3,
   "id": "f4b265e3",
   "metadata": {},
   "outputs": [],
   "source": [
    "# Features to use\n",
    "features = ['from_address_profit', 'to_address_profit', 'highest_profit_in_usd', \n",
    "            'highest_price_change_ratio', 'path_length', 'num_swap_events']"
   ]
  },
  {
   "cell_type": "code",
   "execution_count": 4,
   "id": "2d06f0cb",
   "metadata": {},
   "outputs": [],
   "source": [
    "# Impute missing values (NaN) with the mean of each column\n",
    "imputer = SimpleImputer(strategy='mean')\n",
    "df_imputed = pd.DataFrame(imputer.fit_transform(df[features]), columns=features)"
   ]
  },
  {
   "cell_type": "code",
   "execution_count": 5,
   "id": "a68ece7b",
   "metadata": {},
   "outputs": [],
   "source": [
    "# Scale the features (good practice for clustering algorithms)\n",
    "scaler = StandardScaler()\n",
    "X_scaled = scaler.fit_transform(df_imputed)"
   ]
  },
  {
   "cell_type": "code",
   "execution_count": 10,
   "id": "d3d3634c",
   "metadata": {},
   "outputs": [],
   "source": [
    "# Apply KMeans clustering\n",
    "kmeans = KMeans(n_clusters=2, random_state=42)  # Assuming 2 clusters (attack, not attack)\n",
    "df['cluster'] = kmeans.fit_predict(X_scaled)"
   ]
  },
  {
   "cell_type": "code",
   "execution_count": 12,
   "id": "1eb9eeb0",
   "metadata": {},
   "outputs": [
    {
     "name": "stdout",
     "output_type": "stream",
     "text": [
      "Number of occurrences for each cluster:\n",
      "cluster\n",
      "0    269804\n",
      "1        20\n",
      "Name: count, dtype: int64\n"
     ]
    }
   ],
   "source": [
    "# Print the number of occurrences of each cluster label\n",
    "cluster_counts = df['cluster'].value_counts()\n",
    "print(\"Number of occurrences for each cluster:\")\n",
    "print(cluster_counts)"
   ]
  },
  {
   "cell_type": "code",
   "execution_count": 13,
   "id": "c2375e01",
   "metadata": {},
   "outputs": [
    {
     "name": "stdout",
     "output_type": "stream",
     "text": [
      "Features of cluster 1:\n",
      "        from_address_profit  to_address_profit  highest_profit_in_usd  \\\n",
      "133446         3.743107e+06           0.000000           3.743107e+06   \n",
      "179892         9.738237e+03           0.000000           9.738237e+03   \n",
      "242608         2.891223e+04       25353.688668           9.037353e+05   \n",
      "243059        -8.773843e+02       12509.127748           2.661624e+05   \n",
      "251623         3.544331e+03        8997.016345           9.366158e+04   \n",
      "253394         9.526094e+01        1383.535377           2.498089e+04   \n",
      "254451         8.048602e+02           0.000000           3.383528e+03   \n",
      "254967         3.632514e+02        1383.062992           1.757586e+04   \n",
      "256861         3.243469e+02        2129.030380           2.979981e+04   \n",
      "257706         7.429055e+02        4075.376727           3.536381e+04   \n",
      "257754         1.396029e+03        5606.643502           4.326306e+04   \n",
      "258142         9.354034e+02        3293.690150           1.797350e+04   \n",
      "259478         2.622531e+02        1806.673542           1.301789e+04   \n",
      "259553         3.392982e+02        1197.376824           1.252832e+04   \n",
      "259582         2.845032e+02        1031.246257           9.379090e+03   \n",
      "259611         1.601340e+02         862.937482           8.263527e+03   \n",
      "259769         9.064123e+03           3.873572           9.064123e+03   \n",
      "260015         2.898593e+02        1474.470983           1.557367e+04   \n",
      "260414         3.546071e+02        3765.206715           1.745428e+04   \n",
      "260871         4.203191e+03       13268.814240           1.005508e+05   \n",
      "\n",
      "        highest_price_change_ratio  path_length  num_swap_events  \n",
      "133446                    0.002800          991               14  \n",
      "179892                 1323.776428         1343                1  \n",
      "242608                39872.637492          500               83  \n",
      "243059                  397.860000          508               63  \n",
      "251623                   91.226094          581               35  \n",
      "253394                 1515.554000          461               65  \n",
      "254451                  394.551703          566               80  \n",
      "254967                  395.556023          556               75  \n",
      "256861                   99.270812          502               74  \n",
      "257706                  397.700738          998              148  \n",
      "257754                  397.686576         1022              150  \n",
      "258142                39862.782545          917              130  \n",
      "259478                10028.789368          884              112  \n",
      "259553                10028.789368          440               69  \n",
      "259582                39873.798667          444               69  \n",
      "259611                57417.958872          449               70  \n",
      "259769                39865.734950         1657              355  \n",
      "260015                10028.789368          497               77  \n",
      "260414                39843.577580         1230              174  \n",
      "260871                39878.244291         1394              210  \n"
     ]
    }
   ],
   "source": [
    "cluster_1_df = df[df['cluster'] == 1]\n",
    "\n",
    "# Print the features of cluster 1\n",
    "print(\"Features of cluster 1:\")\n",
    "print(cluster_1_df[features])"
   ]
  }
 ],
 "metadata": {
  "kernelspec": {
   "display_name": "Python 3 (ipykernel)",
   "language": "python",
   "name": "python3"
  },
  "language_info": {
   "codemirror_mode": {
    "name": "ipython",
    "version": 3
   },
   "file_extension": ".py",
   "mimetype": "text/x-python",
   "name": "python",
   "nbconvert_exporter": "python",
   "pygments_lexer": "ipython3",
   "version": "3.9.2"
  }
 },
 "nbformat": 4,
 "nbformat_minor": 5
}
