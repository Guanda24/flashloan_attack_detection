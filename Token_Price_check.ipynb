{
 "cells": [
  {
   "cell_type": "code",
   "execution_count": 1,
   "metadata": {},
   "outputs": [
    {
     "name": "stdout",
     "output_type": "stream",
     "text": [
      "Summary successfully exported to: ./token_price_summary_with_id.csv\n"
     ]
    }
   ],
   "source": [
    "import pandas as pd\n",
    "import os\n",
    "\n",
    "# Confirm the file path\n",
    "file_path = '/home/user/gzhao/Thesis/Price/token_price.csv'\n",
    "\n",
    "if os.path.exists(file_path):\n",
    "    # Load the data\n",
    "    token_price = pd.read_csv(file_path)\n",
    "\n",
    "    # Filter for priceUSD > 7000\n",
    "    token_price = token_price[token_price['priceUSD'] > 7000]\n",
    "\n",
    "    # Calculate statistics and retain token.id\n",
    "    summary = token_price.groupby(['token.name', 'token.id']).agg(\n",
    "        highest_price=('priceUSD', 'max'),\n",
    "        lowest_price=('priceUSD', 'min'),\n",
    "        count_above_7000=('priceUSD', lambda x: (x > 7000).sum())\n",
    "    ).reset_index()\n",
    "\n",
    "    # Add the difference between highest and lowest price\n",
    "    summary['price_difference'] = summary['highest_price'] - summary['lowest_price']\n",
    "\n",
    "    # Export to a CSV file\n",
    "    output_path = './token_price_summary_with_id.csv'\n",
    "    summary.to_csv(output_path, index=False)\n",
    "    print(f\"Summary successfully exported to: {output_path}\")\n",
    "else:\n",
    "    print(\"File path error, please check if the file exists: \", file_path)"
   ]
  },
  {
   "cell_type": "code",
   "execution_count": 2,
   "metadata": {},
   "outputs": [
    {
     "name": "stdout",
     "output_type": "stream",
     "text": [
      "Filtered data saved to: /home/user/gzhao/Thesis/Price/token_price_filtered.csv\n"
     ]
    }
   ],
   "source": [
    "# Define the token.id values to be removed\n",
    "remove_ids = [\n",
    "    \"0x9cea2ed9e47059260c97d697f82b8a14efa61ea5\",\n",
    "    \"0x632fd938b98d740faee69112ed41257be3f83c7c\",\n",
    "    \"0xf25c91c87e0b1fd9b4064af0f427157aab0193a7\",\n",
    "    \"0x058349297672b6cc7ccb6e59a679c5add74a6898\",\n",
    "    \"0x08389495d7456e1951ddf7c3a1314a4bfb646d8b\",\n",
    "    \"0xe8847d2fa66d0d1f4a77221cae1e47d8d59cf7d7\",\n",
    "    \"0xf51ebf9a26dbc02b13f8b3a9110dac47a4d62d78\",\n",
    "    \"0x4b7ee45f30767f36f06f79b32bf1fca6f726deda\",\n",
    "    \"0x4f7aff8f0c78b51c0e30f02f27a67b5a6a11552b\",\n",
    "    \"0x239b0fa917d85c21cf6435464c2c6aa3d45f6720\",\n",
    "    \"0x57933314b1a31f91871acd557e3d014100f97e08\",\n",
    "    \"0x9631483f28b7f5cbf7d435ab249be8f709215bc3\",\n",
    "    \"0x9891a469c481a77b1603a233837c61ec01555ce9\",\n",
    "    \"0x0d4a11d5eeaac28ec3f61d100daf4d40471f1852\",\n",
    "    \"0x2c974b2d0ba1716e644c1fc59982a89ddd2ff724\",\n",
    "    \"0xa3c22370de5f9544f0c4de126b1e46ceadf0a51b\"\n",
    "]\n",
    "\n",
    "# Load the CSV file\n",
    "df = pd.read_csv(file_path)\n",
    "\n",
    "# Filter out rows with token.id in the remove_ids list\n",
    "filtered_df = df[~df['token.id'].isin(remove_ids)]\n",
    "\n",
    "# Save the filtered DataFrame back to a new CSV file\n",
    "output_path = '/home/user/gzhao/Thesis/Price/token_price_filtered.csv'\n",
    "filtered_df.to_csv(output_path, index=False)\n",
    "\n",
    "print(f\"Filtered data saved to: {output_path}\")"
   ]
  }
 ],
 "metadata": {
  "kernelspec": {
   "display_name": "Python 3",
   "language": "python",
   "name": "python3"
  },
  "language_info": {
   "codemirror_mode": {
    "name": "ipython",
    "version": 3
   },
   "file_extension": ".py",
   "mimetype": "text/x-python",
   "name": "python",
   "nbconvert_exporter": "python",
   "pygments_lexer": "ipython3",
   "version": "3.9.2"
  }
 },
 "nbformat": 4,
 "nbformat_minor": 2
}
